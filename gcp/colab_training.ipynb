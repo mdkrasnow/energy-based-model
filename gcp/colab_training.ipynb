{
 "cells": [
  {
   "cell_type": "markdown",
   "metadata": {},
   "source": [
    "# Energy-Based Model Training on Google Colab (FREE GPU)\n",
    "\n",
    "This notebook runs your training on Google Colab's free T4 GPU without any quota requirements.\n",
    "\n",
    "## Setup Instructions:\n",
    "1. Upload this notebook to Google Colab\n",
    "2. Go to Runtime → Change runtime type → GPU → T4\n",
    "3. Run the cells below"
   ]
  },
  {
   "cell_type": "code",
   "execution_count": null,
   "metadata": {},
   "outputs": [],
   "source": [
    "# Check GPU availability\n",
    "!nvidia-smi"
   ]
  },
  {
   "cell_type": "code",
   "execution_count": null,
   "metadata": {},
   "outputs": [],
   "source": [
    "# Mount Google Drive for persistent storage\n",
    "from google.colab import drive\n",
    "drive.mount('/content/drive')"
   ]
  },
  {
   "cell_type": "code",
   "execution_count": null,
   "metadata": {},
   "outputs": [],
   "source": [
    "# Clone your repository or upload files\n",
    "# Option 1: If you have a GitHub repo\n",
    "# !git clone https://github.com/YOUR_USERNAME/energy-based-model.git\n",
    "\n",
    "# Option 2: Upload from local (run this and use the file picker)\n",
    "from google.colab import files\n",
    "import zipfile\n",
    "import os\n",
    "\n",
    "print(\"Upload your energy-based-model.zip file:\")\n",
    "uploaded = files.upload()\n",
    "\n",
    "# Extract if zip file uploaded\n",
    "for filename in uploaded.keys():\n",
    "    if filename.endswith('.zip'):\n",
    "        with zipfile.ZipFile(filename, 'r') as zip_ref:\n",
    "            zip_ref.extractall('/content/')\n",
    "        print(f\"Extracted {filename}\")\n",
    "\n",
    "# Change to project directory\n",
    "%cd /content/energy-based-model"
   ]
  },
  {
   "cell_type": "code",
   "execution_count": null,
   "metadata": {},
   "outputs": [],
   "source": [
    "# Install dependencies\n",
    "!pip install -q accelerate==1.10.1\n",
    "!pip install -q einops==0.8.1\n",
    "!pip install -q ema_pytorch==0.7.7\n",
    "!pip install -q tabulate==0.9.0\n",
    "!pip install -q tqdm==4.67.1\n",
    "!pip install -q wandb  # Optional for logging"
   ]
  },
  {
   "cell_type": "code",
   "execution_count": null,
   "metadata": {},
   "outputs": [],
   "source": [
    "# Verify PyTorch and CUDA\n",
    "import torch\n",
    "print(f\"PyTorch version: {torch.__version__}\")\n",
    "print(f\"CUDA available: {torch.cuda.is_available()}\")\n",
    "if torch.cuda.is_available():\n",
    "    print(f\"GPU: {torch.cuda.get_device_name(0)}\")\n",
    "    print(f\"GPU Memory: {torch.cuda.get_device_properties(0).total_memory / 1e9:.2f} GB\")"
   ]
  },
  {
   "cell_type": "code",
   "execution_count": null,
   "metadata": {},
   "outputs": [],
   "source": [
    "# Download data if needed\n",
    "!mkdir -p data\n",
    "# Add your data download commands here\n",
    "# Example: !wget -O data/dataset.tar.gz https://example.com/dataset.tar.gz\n",
    "# !tar -xzf data/dataset.tar.gz -C data/"
   ]
  },
  {
   "cell_type": "code",
   "execution_count": null,
   "metadata": {},
   "outputs": [],
   "source": [
    "# Set up checkpoint directory in Google Drive for persistence\n",
    "import os\n",
    "os.makedirs('/content/drive/MyDrive/ebm_checkpoints', exist_ok=True)\n",
    "os.makedirs('/content/drive/MyDrive/ebm_logs', exist_ok=True)\n",
    "\n",
    "# Create symlinks\n",
    "!ln -sf /content/drive/MyDrive/ebm_checkpoints ./checkpoints\n",
    "!ln -sf /content/drive/MyDrive/ebm_logs ./logs"
   ]
  },
  {
   "cell_type": "code",
   "execution_count": null,
   "metadata": {},
   "outputs": [],
   "source": [
    "# Training configuration\n",
    "BATCH_SIZE = 32\n",
    "LEARNING_RATE = 1e-4\n",
    "NUM_EPOCHS = 100\n",
    "CHECKPOINT_DIR = \"./checkpoints\"\n",
    "LOG_DIR = \"./logs\"\n",
    "DATA_DIR = \"./data\""
   ]
  },
  {
   "cell_type": "code",
   "execution_count": null,
   "metadata": {},
   "outputs": [],
   "source": [
    "# Run training\n",
    "!python train.py \\\n",
    "    --data_dir {DATA_DIR} \\\n",
    "    --checkpoint_dir {CHECKPOINT_DIR} \\\n",
    "    --log_dir {LOG_DIR} \\\n",
    "    --batch_size {BATCH_SIZE} \\\n",
    "    --learning_rate {LEARNING_RATE} \\\n",
    "    --num_epochs {NUM_EPOCHS} \\\n",
    "    --device cuda \\\n",
    "    --num_workers 2"
   ]
  },
  {
   "cell_type": "code",
   "execution_count": null,
   "metadata": {},
   "outputs": [],
   "source": [
    "# Alternative: Run with automatic mixed precision for faster training\n",
    "# !python train.py \\\n",
    "#     --data_dir {DATA_DIR} \\\n",
    "#     --checkpoint_dir {CHECKPOINT_DIR} \\\n",
    "#     --log_dir {LOG_DIR} \\\n",
    "#     --batch_size {BATCH_SIZE} \\\n",
    "#     --learning_rate {LEARNING_RATE} \\\n",
    "#     --num_epochs {NUM_EPOCHS} \\\n",
    "#     --device cuda \\\n",
    "#     --num_workers 2 \\\n",
    "#     --mixed_precision"
   ]
  },
  {
   "cell_type": "code",
   "execution_count": null,
   "metadata": {},
   "outputs": [],
   "source": [
    "# Monitor GPU usage during training\n",
    "!nvidia-smi"
   ]
  },
  {
   "cell_type": "code",
   "execution_count": null,
   "metadata": {},
   "outputs": [],
   "source": [
    "# Download results to local machine\n",
    "from google.colab import files\n",
    "import shutil\n",
    "\n",
    "# Zip checkpoints and logs\n",
    "shutil.make_archive('training_results', 'zip', '.', 'checkpoints')\n",
    "files.download('training_results.zip')"
   ]
  },
  {
   "cell_type": "markdown",
   "metadata": {},
   "source": [
    "## Tips for Colab:\n",
    "\n",
    "1. **Session Time Limits**: Free Colab has a 12-hour maximum runtime. Save checkpoints frequently!\n",
    "2. **GPU Limits**: You get about 8-12 hours of GPU per day on the free tier\n",
    "3. **Persistent Storage**: Always save important files to Google Drive\n",
    "4. **Idle Timeout**: Colab disconnects after 90 minutes of inactivity\n",
    "5. **Keep Alive**: Use this JavaScript in browser console to prevent disconnection:\n",
    "```javascript\n",
    "function ClickConnect(){\n",
    "    console.log(\"Keeping alive...\");\n",
    "    document.querySelector(\"colab-connect-button\").click()\n",
    "}\n",
    "setInterval(ClickConnect, 60000)\n",
    "```\n",
    "\n",
    "## Alternative: Colab Pro\n",
    "- $10/month for faster GPUs (V100), longer runtimes, and more RAM\n",
    "- No quota requirements, instant access"
   ]
  }
 ],
 "metadata": {
  "kernelspec": {
   "display_name": "Python 3",
   "language": "python",
   "name": "python3"
  },
  "language_info": {
   "name": "python",
   "version": "3.10.0"
  }
 },
 "nbformat": 4,
 "nbformat_minor": 4
}